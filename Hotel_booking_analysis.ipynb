{
 "cells": [
  {
   "cell_type": "code",
   "execution_count": null,
   "id": "d93ae5ce-85d7-4faa-822e-2c91055e8454",
   "metadata": {},
   "outputs": [],
   "source": [
    "# Suppressing Warnings\n",
    "import warnings\n",
    "warnings.filterwarnings('ignore')"
   ]
  },
  {
   "cell_type": "code",
   "execution_count": null,
   "id": "f4ebaa40-cdfe-4773-8159-a5710cdc7446",
   "metadata": {},
   "outputs": [],
   "source": [
    "# Importing neccesary libraries.\n",
    "\n",
    "import pandas as pd\n",
    "import seaborn as sns\n",
    "import numpy as np\n",
    "from matplotlib import pyplot as plt\n",
    "%matplotlib inline\n",
    "from sklearn.preprocessing import StandardScaler\n",
    "pd.set_option('display.max_columns', 500)"
   ]
  },
  {
   "cell_type": "code",
   "execution_count": null,
   "id": "a49b7a92-5741-40b4-a890-74b974437388",
   "metadata": {},
   "outputs": [],
   "source": [
    "#Provide the full path where the csv file is located\n",
    "df= pd.read_csv(\"hotel_bookings.csv\") \n",
    "df.head()"
   ]
  },
  {
   "cell_type": "code",
   "execution_count": null,
   "id": "264ca37f-be07-45ff-bab4-d40692693d91",
   "metadata": {},
   "outputs": [],
   "source": [
    "print(df.shape)"
   ]
  },
  {
   "cell_type": "code",
   "execution_count": null,
   "id": "09707b64-8bd4-4e4f-b1a9-4c6cda0370cb",
   "metadata": {},
   "outputs": [],
   "source": [
    "# To describe the data\n",
    "df.describe()"
   ]
  },
  {
   "cell_type": "code",
   "execution_count": null,
   "id": "1064112b-883b-4bcb-960e-adee9f5928fe",
   "metadata": {},
   "outputs": [],
   "source": [
    "#Datatypes used\n",
    "df.info()"
   ]
  },
  {
   "cell_type": "code",
   "execution_count": null,
   "id": "79682938-86f3-45e8-b5dd-aaa3e679dcfb",
   "metadata": {},
   "outputs": [],
   "source": [
    "# Enlarging the pie chart\n",
    "plt.rcParams['figure.figsize'] = 8,8\n",
    "\n",
    "# Indexing labels. tolist() will convert the index to list for easy manipulation\n",
    "labels = df['hotel'].value_counts().index.tolist()\n",
    "\n",
    "# Convert value counts to list\n",
    "sizes = df['hotel'].value_counts().tolist()\n",
    "\n",
    "# As the name suggest, explode will determine how much each section is separated from each other \n",
    "explode = (0, 0.1)\n",
    "\n",
    "# Determine colour of pie chart\n",
    "colors = ['blue', 'red']\n",
    "\n",
    "plt.pie(sizes, explode=explode, labels=labels, colors=colors, autopct='%1.1f%%',startangle=90, textprops={'fontsize': 14})\n",
    "plt.show()\n"
   ]
  },
  {
   "cell_type": "code",
   "execution_count": null,
   "id": "8b288f22-2810-4f86-888b-0e54d0af3b54",
   "metadata": {},
   "outputs": [],
   "source": [
    "#Checking the missing values in the columns\n",
    "\n",
    "df.isnull().sum()"
   ]
  },
  {
   "cell_type": "code",
   "execution_count": null,
   "id": "e739e643-23b4-419e-83ba-4ad4988a43e3",
   "metadata": {},
   "outputs": [],
   "source": [
    "#Column-wise null percentage\n",
    "\n",
    "print(round(100*(df.isnull().sum()/len(df.index)),2))"
   ]
  },
  {
   "cell_type": "code",
   "execution_count": null,
   "id": "0891abcd-3b68-4533-990a-1094856d853b",
   "metadata": {},
   "outputs": [],
   "source": [
    "df=df.drop(['agent','company'],axis=1)"
   ]
  },
  {
   "cell_type": "code",
   "execution_count": null,
   "id": "ac07d82b-0557-44e8-9427-9bcb430a8a86",
   "metadata": {},
   "outputs": [],
   "source": [
    "df = df.dropna(axis = 0)"
   ]
  },
  {
   "cell_type": "code",
   "execution_count": null,
   "id": "e94373a3-e627-4fcd-870f-113eab11bc81",
   "metadata": {},
   "outputs": [],
   "source": [
    "df.isnull().sum()"
   ]
  },
  {
   "cell_type": "code",
   "execution_count": null,
   "id": "a0b84ab0-e2a3-41eb-aa97-8e7c7972497e",
   "metadata": {},
   "outputs": [],
   "source": [
    "df.columns = ['Hotel', 'Canceled', 'LeadTime', 'ArrivingYear', 'ArrivingMonth', 'ArrivingWeek','ArrivingDate', 'WeekendStay',\n",
    "              'WeekStay', 'Adults', 'Children', 'Babies', 'Meal','Country', 'Segment', 'DistChannel','RepeatGuest', 'PrevCancel',\n",
    "              'PrevBook', 'BookRoomType','AssignRoomType', 'ChangeBooking', 'DepositType', 'WaitingDays', \n",
    "              'CustomerType', 'ADR','ParkSpace', 'SpecialRequest','Reservation', 'ReservationDate']"
   ]
  },
  {
   "cell_type": "code",
   "execution_count": null,
   "id": "aea18be7-6ff0-4583-8361-0f2c50308f17",
   "metadata": {},
   "outputs": [],
   "source": [
    "def var(df):\n",
    "    unique_list = pd.DataFrame([[i,len(df[i].unique())] for i in df.columns])\n",
    "    unique_list.columns = ['name','uniques']\n",
    "\n",
    "    total_var = set(df.columns)\n",
    "    cat_var = set(unique_list.name[(unique_list.uniques<=12)      | \n",
    "                                   (unique_list.name=='Country')  | \n",
    "                                   (unique_list.name=='Agent')                                     \n",
    "                                  ])\n",
    "    con_var = total_var - cat_var\n",
    "    \n",
    "    return cat_var, con_var \n",
    "\n",
    "\n",
    "cat_var, con_var = var(df)\n",
    "\n",
    "print(\"Continuous Variables (\",len(con_var),\")\\n\",con_var,'\\n\\n'\n",
    "      \"Categorical Variables(\",len(cat_var),\")\\n\",cat_var)"
   ]
  },
  {
   "cell_type": "code",
   "execution_count": null,
   "id": "81572210-26f7-4f47-b61d-15ba68d91db7",
   "metadata": {},
   "outputs": [],
   "source": [
    "# Creating a boxplot for Outlier detection\n",
    "features = ['LeadTime', 'WeekendStay', 'WeekStay', 'Adults','Children', 'Babies','ADR']\n",
    "n = 1\n",
    "plt.figure(figsize=(16,18))\n",
    "for feature in features:\n",
    "    plt.subplot(4,4,n)\n",
    "    sns.boxplot(df[features])\n",
    "    n+=1\n",
    "    plt.tight_layout()"
   ]
  },
  {
   "cell_type": "code",
   "execution_count": null,
   "id": "77c902b7-8980-4e13-a509-fa15ac996912",
   "metadata": {},
   "outputs": [],
   "source": [
    "#Checking outliers in continuous variables\n",
    "df[con_var].describe()"
   ]
  },
  {
   "cell_type": "code",
   "execution_count": null,
   "id": "847086cb-b9a7-4634-b9ab-f53fca0a9ece",
   "metadata": {},
   "outputs": [],
   "source": [
    "df.loc[df.LeadTime      > 500,'LeadTime'     ]=500\n",
    "df.loc[df.WaitingDays   >   0,'WaitingDays'  ]=  1\n",
    "df.loc[df.WeekendStay   >=  5,'WeekendStay'  ]=  5\n",
    "df.loc[df.Adults        >   4,'Adults'       ]=  4\n",
    "df.loc[df.PrevBook      >   0,'PrevBook'     ]=  1\n",
    "df.loc[df.PrevCancel    >   0,'PrevCancel'   ]=  1\n",
    "df.loc[df.WeekStay      >  10,'WeekStay'     ]= 10\n",
    "df.loc[df.ChangeBooking >   5,'ChangeBooking']=  5\n",
    "\n",
    "cat_var = set(list(cat_var) + ['PrevBook','PrevCancel'])\n",
    "con_var = set(df.columns) - cat_var\n",
    "\n",
    "df[con_var].describe()"
   ]
  },
  {
   "cell_type": "code",
   "execution_count": null,
   "id": "2b216ca4-52bf-4fb0-994d-16fa9e1d491d",
   "metadata": {},
   "outputs": [],
   "source": [
    "#outliers in categorical variables\n",
    "df[cat_var].describe()"
   ]
  },
  {
   "cell_type": "code",
   "execution_count": null,
   "id": "0bbb9a65-34c4-4ea3-b463-78783c55d06e",
   "metadata": {},
   "outputs": [],
   "source": [
    "df.loc[df.Babies    > 8,'Babies']    = 0\n",
    "df.loc[df.ParkSpace > 5,'ParkSpace'] = 0\n",
    "df.loc[df.Children  > 8,'Children']  = 0\n",
    "\n",
    "df[cat_var].describe()"
   ]
  },
  {
   "cell_type": "code",
   "execution_count": null,
   "id": "482a213d-1cb7-423d-ab05-729c2b958ee9",
   "metadata": {},
   "outputs": [],
   "source": [
    "#Lets combine children and babies together as kids\n",
    "df['Kids'] = df.Children + df.Babies\n",
    "\n",
    "#Combine total mumbers by adding kids and adults\n",
    "df['total_members'] = df.Kids + df.Adults"
   ]
  },
  {
   "cell_type": "code",
   "execution_count": null,
   "id": "baecb2b0-a07c-45ad-b0f0-feffedd036b3",
   "metadata": {},
   "outputs": [],
   "source": [
    "#convert the datatypes to string\n",
    "df['ArrivingYear'] = df['ArrivingYear'].astype('str')\n",
    "df['ArrivingMonth'] = df['ArrivingMonth'].astype('str')\n",
    "df['ArrivingDate'] = df['ArrivingDate'].astype('str')\n",
    "\n",
    "df['Canceled'] = df['Canceled'].astype('str')\n",
    "df['RepeatGuest'] = df['RepeatGuest'].astype('str')\n"
   ]
  },
  {
   "cell_type": "code",
   "execution_count": null,
   "id": "f9292dcf-98fa-4875-a98e-b14bbcee496d",
   "metadata": {},
   "outputs": [],
   "source": [
    "# Lets convert arrival date to datetime\n",
    "df['Arrival Date'] = df['ArrivingDate'] + '-' + df['ArrivingMonth'] + '-' + df['ArrivingYear']\n",
    "df['Arrival Date'] = pd.to_datetime(df['Arrival Date'], errors='coerce')"
   ]
  },
  {
   "cell_type": "code",
   "execution_count": null,
   "id": "7f823da5-bc53-4dcf-acf5-efc71a8d5e39",
   "metadata": {},
   "outputs": [],
   "source": [
    "confirmed_bookings = df[df.Canceled=='0']"
   ]
  },
  {
   "cell_type": "code",
   "execution_count": null,
   "id": "2f288547-cf1f-4032-8648-962d1e6c7cff",
   "metadata": {},
   "outputs": [],
   "source": [
    "import datetime as dt\n",
    "confirmed_bookings['ArrivingMonth'] = df['Arrival Date'].dt.month\n",
    "final=confirmed_bookings['ArrivingMonth'].value_counts().sort_index()\n",
    "final"
   ]
  },
  {
   "cell_type": "code",
   "execution_count": null,
   "id": "2a74a9e9-e985-4018-b0ef-23917f2dafd4",
   "metadata": {},
   "outputs": [],
   "source": [
    "print('Total Bookings canceled')\n",
    "print('-'*50)\n",
    "print(df.Canceled.value_counts())\n",
    "print('-'*50)\n",
    "print('*'*75)\n",
    "print('Cancelation percentage in both hotels ')\n",
    "print('-'*50)\n",
    "print(df.Canceled.value_counts(normalize=True))\n"
   ]
  },
  {
   "cell_type": "code",
   "execution_count": null,
   "id": "7604e2a4-20aa-432c-a08c-35abf0d665db",
   "metadata": {},
   "outputs": [],
   "source": [
    "df.Country.value_counts(normalize=True)"
   ]
  },
  {
   "cell_type": "code",
   "execution_count": null,
   "id": "7e3e15b7-736f-4ea3-81f1-ba04b828b4dd",
   "metadata": {},
   "outputs": [],
   "source": [
    "df.ArrivingMonth.value_counts(normalize=True)"
   ]
  },
  {
   "cell_type": "code",
   "execution_count": null,
   "id": "0d68181a-d99e-4ccc-8300-a5e47d547f7b",
   "metadata": {},
   "outputs": [],
   "source": [
    "df.Segment.value_counts(normalize=True)"
   ]
  },
  {
   "cell_type": "code",
   "execution_count": null,
   "id": "2100f9ca-c81c-4691-b7e7-45e382b58040",
   "metadata": {},
   "outputs": [],
   "source": [
    "df.ArrivingYear.value_counts(normalize=True)"
   ]
  },
  {
   "cell_type": "code",
   "execution_count": null,
   "id": "cf09c95d-8459-48e6-99a0-0c2bfc580b16",
   "metadata": {},
   "outputs": [],
   "source": [
    "df.Meal.value_counts(normalize=True)"
   ]
  },
  {
   "cell_type": "code",
   "execution_count": null,
   "id": "2ca1aeca-cae0-4884-bfab-b8353fae46a3",
   "metadata": {},
   "outputs": [],
   "source": [
    "df.CustomerType.value_counts(normalize=True)"
   ]
  },
  {
   "cell_type": "code",
   "execution_count": null,
   "id": "86c43908-39a1-4d42-a2e6-3735d9d7ed02",
   "metadata": {},
   "outputs": [],
   "source": [
    "df.Reservation.value_counts(normalize=True)"
   ]
  },
  {
   "cell_type": "code",
   "execution_count": null,
   "id": "0f5dd737-2649-4457-8ee6-5c6dcff2a421",
   "metadata": {},
   "outputs": [],
   "source": [
    "plt.figure(figsize=(12,6))\n",
    "sns.barplot(x='ArrivingYear', y='LeadTime',hue='Canceled', data= df, palette='vlag')\n",
    "plt.title('Arriving year, Leadtime and Cancelations')"
   ]
  },
  {
   "cell_type": "code",
   "execution_count": null,
   "id": "8358eec4-03ca-4414-9a27-fbc6b534cc20",
   "metadata": {},
   "outputs": [],
   "source": [
    "#Lets see the correlation\n",
    "plt.figure(figsize=(12,8))\n",
    "sns.heatmap(df.corr(),annot=True,cmap='RdYlGn')"
   ]
  },
  {
   "cell_type": "code",
   "execution_count": null,
   "id": "910fc644-0149-4c20-9c5f-3ec873ab485d",
   "metadata": {},
   "outputs": [],
   "source": [
    "#Canceled=1, Not canceled= 0\n",
    "canceled_data = df['Canceled']\n",
    "sns.countplot(canceled_data, palette='husl')\n",
    "\n",
    "plt.show()"
   ]
  },
  {
   "cell_type": "code",
   "execution_count": null,
   "id": "27c2826b-b04c-43ad-ad2d-f53cf6fe0b87",
   "metadata": {},
   "outputs": [],
   "source": [
    "cols = ['gold', 'lightcoral']\n",
    "df['Canceled'].value_counts().plot.pie(autopct='%1.1f%%',shadow=True, colors=cols)"
   ]
  },
  {
   "cell_type": "code",
   "execution_count": null,
   "id": "fef40807-06f3-4fbe-bf23-2ecc0c71ef0c",
   "metadata": {},
   "outputs": [],
   "source": [
    "plt.figure(figsize=(12, 6))\n",
    "\n",
    "sns.countplot(x='Hotel',hue=\"Canceled\", data=df,palette='Pastel1')\n",
    "plt.title(\"Cancelation rates in City hotel and Resort hotel\",fontweight=\"bold\", size=20)\n",
    "plt.show()"
   ]
  },
  {
   "cell_type": "code",
   "execution_count": null,
   "id": "83b53756-6ce4-4fa9-a51b-ef7cbb0eff04",
   "metadata": {},
   "outputs": [],
   "source": [
    "plt.figure(figsize=(15, 8))\n",
    "plt.subplot(1, 2, 1)\n",
    "sns.countplot(x='ArrivingYear',hue='Hotel', data=df,palette='husl')\n",
    "plt.title(\"Arrivals per year in Both hotels \",fontweight=\"bold\", size=30)\n",
    "plt.subplot(1, 2, 2)\n",
    "sns.countplot(data = df, x = 'ArrivingMonth')\n",
    "plt.title('Arrivals per month',fontweight=\"bold\", size=30)\n",
    "plt.subplots_adjust(right=1.7)\n",
    "\n",
    "plt.show()"
   ]
  },
  {
   "cell_type": "code",
   "execution_count": null,
   "id": "d305bf52-f3e7-4f9b-8d39-7deb29a966ce",
   "metadata": {},
   "outputs": [],
   "source": [
    "plt.figure(figsize=(15,6))\n",
    "\n",
    "sns.countplot(data = df, x = 'ArrivingDate', hue='Hotel', palette='Paired')\n",
    "plt.show()"
   ]
  },
  {
   "cell_type": "code",
   "execution_count": null,
   "id": "80cbcdd1-2b85-4190-8bfb-8cdf9c157644",
   "metadata": {},
   "outputs": [],
   "source": [
    "plt.figure(figsize=(15, 8))\n",
    "plt.subplot(1, 2, 1)\n",
    "sns.countplot(x='WeekendStay',hue='Hotel', data=df, palette='cool')\n",
    "plt.title(\"Number of stays on weekend nights\",fontweight=\"bold\", size=20)\n",
    "plt.subplot(1, 2, 2)\n",
    "sns.countplot(data = df, x = 'WeekendStay', hue='Canceled', palette='rocket')\n",
    "plt.title('WeekendStay vs Cancelation',fontweight=\"bold\", size=20)\n",
    "plt.subplots_adjust(right=1.7)\n",
    "\n",
    "plt.show()"
   ]
  },
  {
   "cell_type": "code",
   "execution_count": null,
   "id": "8bc62df1-0d2b-46b3-a01c-a9f6f6bf15fd",
   "metadata": {},
   "outputs": [],
   "source": [
    "plt.figure(figsize=(15, 8))\n",
    "plt.subplot(1, 2, 1)\n",
    "sns.countplot(x='WeekStay',hue='Hotel', data=df, palette='rainbow_r')\n",
    "plt.title(\"Number of stays on weekday nights\",fontweight=\"bold\", size=20)\n",
    "plt.subplot(1, 2, 2)\n",
    "sns.countplot(data = df, x = 'WeekStay', hue='Canceled', palette='magma_r')\n",
    "plt.title('WeekStay vs Cancelations',fontweight=\"bold\", size=20)\n",
    "plt.subplots_adjust(right=1.7)\n",
    "\n",
    "\n",
    "plt.show()"
   ]
  },
  {
   "cell_type": "code",
   "execution_count": null,
   "id": "9e3f3249-c527-4753-b171-925759f90604",
   "metadata": {},
   "outputs": [],
   "source": [
    "plt.figure(figsize=(15, 8))\n",
    "plt.subplot(1, 2, 1)\n",
    "sns.countplot(x='Adults',hue='Hotel', data=df, palette='pastel')\n",
    "plt.title(\"Number of adults in both hotels\",fontweight=\"bold\", size=20)\n",
    "plt.subplot(1, 2, 2)\n",
    "sns.countplot(data = df, x = 'Adults', hue='Canceled', palette='husl')\n",
    "plt.title('Adults vs Cancelations',fontweight=\"bold\", size=20)\n",
    "plt.subplots_adjust(right=1.7)\n",
    "\n",
    "\n",
    "plt.show()"
   ]
  },
  {
   "cell_type": "code",
   "execution_count": null,
   "id": "5d71500b-3a7f-4874-92f8-e24615d831cc",
   "metadata": {},
   "outputs": [],
   "source": [
    "plt.figure(figsize=(15, 8))\n",
    "plt.subplot(1, 2, 1)\n",
    "sns.countplot(x='Children',hue='Hotel', data=df, palette='cool')\n",
    "plt.title(\"Number of Children in both hotels\",fontweight=\"bold\", size=20)\n",
    "plt.subplot(1, 2, 2)\n",
    "sns.countplot(data = df, x = 'Children', hue='Canceled', palette='Set2')\n",
    "plt.title('Children vs Cancelations',fontweight=\"bold\", size=20)\n",
    "plt.subplots_adjust(right=1.7)\n",
    "\n",
    "\n",
    "plt.show()"
   ]
  },
  {
   "cell_type": "code",
   "execution_count": null,
   "id": "56bb71f3-04d4-42a7-89a2-b432951d601e",
   "metadata": {},
   "outputs": [],
   "source": [
    "plt.figure(figsize=(15, 8))\n",
    "plt.subplot(1, 2, 1)\n",
    "sns.countplot(x='Babies',hue='Hotel', data=df, palette='coolwarm')\n",
    "plt.title(\"Number of Babies in both hotels\",fontweight=\"bold\", size=20)\n",
    "\n",
    "plt.subplot(1, 2, 2)\n",
    "sns.countplot(data = df, x = 'Babies', hue='Canceled', palette='Set1_r')\n",
    "plt.title('Babies vs Cancelations',fontweight=\"bold\", size=20)\n",
    "plt.subplots_adjust(right=1.7)\n",
    "\n",
    "\n",
    "\n",
    "plt.show()"
   ]
  },
  {
   "cell_type": "code",
   "execution_count": null,
   "id": "40b3e3dd-c4a5-4ac3-8a37-8a3731a1a1dc",
   "metadata": {},
   "outputs": [],
   "source": [
    "import plotly.express as px\n",
    "import plotly.graph_objects as go\n",
    "import plotly.figure_factory as ff\n",
    "from plotly.colors import n_colors\n",
    "from plotly.subplots import make_subplots\n",
    "# Minmax scaler\n",
    "from sklearn.preprocessing import MinMaxScaler"
   ]
  },
  {
   "cell_type": "code",
   "execution_count": null,
   "id": "b587666a-f414-4e72-803e-409185a0cee0",
   "metadata": {},
   "outputs": [],
   "source": [
    "country_visitors = df[df['Canceled'] == '0'].groupby(['Country']).size().reset_index(name = 'count')\n",
    "\n",
    "import plotly.express as px\n",
    "\n",
    "px.choropleth(country_visitors,\n",
    "                    locations = \"Country\",\n",
    "                    color= \"count\" ,\n",
    "                    hover_name= \"Country\", # column to add to hover information\n",
    "                    color_continuous_scale=\"Viridis\",\n",
    "                    title=\"Home country of visitors\")"
   ]
  },
  {
   "cell_type": "code",
   "execution_count": null,
   "id": "951dfe75-f0bd-465b-89b2-fb4d2514c5fc",
   "metadata": {},
   "outputs": [],
   "source": [
    "plt.figure(figsize=(15, 8))\n",
    "plt.subplot(1, 2, 1)\n",
    "sns.countplot(x='Segment', data=df, palette='rocket')\n",
    "plt.title('Types of market segment',fontweight=\"bold\", size=20)\n",
    "\n",
    "plt.subplot(1, 2, 2)\n",
    "sns.countplot(data = df, x = 'DistChannel',  palette='Set1_r')\n",
    "plt.title('Types of distribution channels',fontweight=\"bold\", size=20)\n",
    "plt.subplots_adjust(right=1.7)\n",
    "\n",
    "\n",
    "\n",
    "plt.show()"
   ]
  },
  {
   "cell_type": "code",
   "execution_count": null,
   "id": "3eb54c48-e10a-4fff-9e9d-75f6b39eac54",
   "metadata": {},
   "outputs": [],
   "source": [
    "plt.figure(figsize=(12, 6))\n",
    "\n",
    "sns.countplot(data = df, x = 'DepositType',hue='Hotel', palette='cool')\n",
    "plt.title('Types of Deposit type',fontweight=\"bold\", size=20)\n",
    "\n",
    "\n",
    "plt.show()"
   ]
  },
  {
   "cell_type": "code",
   "execution_count": null,
   "id": "be7f18bb-e4f2-49da-90d9-c6047c3373bc",
   "metadata": {},
   "outputs": [],
   "source": [
    "plt.figure(figsize=(8,6))\n",
    "sns.countplot(data = df, x = 'RepeatGuest').set_title('Graph showing whether guest is repeated guest', fontsize = 20)\n",
    "plt.show()"
   ]
  },
  {
   "cell_type": "code",
   "execution_count": null,
   "id": "60587c4d-61e5-4db9-a87b-d5ab940a8d6d",
   "metadata": {},
   "outputs": [],
   "source": [
    "# Resizing plot \n",
    "plt.figure(figsize=(12,5))\n",
    "\n",
    "# Calculating average daily rate per person\n",
    "df['adr_pp'] = df['ADR'] / (df['Adults'] + df['Children']) \n",
    "actual_guests = df.loc[df[\"Canceled\"] == '0']\n",
    "actual_guests['price'] = actual_guests['ADR'] * (actual_guests['WeekendStay'] + actual_guests['WeekStay'])\n",
    "sns.lineplot(data = actual_guests, x = 'ArrivingMonth', y = 'price', hue = 'Hotel')\n",
    "plt.show()"
   ]
  },
  {
   "cell_type": "code",
   "execution_count": null,
   "id": "4467114e-1074-4767-b561-06a8b5133b6d",
   "metadata": {},
   "outputs": [],
   "source": [
    "plt.figure(figsize=(12,6))\n",
    "sns.lineplot(x='ArrivingMonth', y='ADR', hue='Hotel', data= df)\n",
    "plt.show()"
   ]
  },
  {
   "cell_type": "code",
   "execution_count": null,
   "id": "99baf7bd-9a4c-4d53-aa00-39de72ad323e",
   "metadata": {},
   "outputs": [],
   "source": []
  }
 ],
 "metadata": {
  "kernelspec": {
   "display_name": "Python [conda env:.conda-flowering]",
   "language": "python",
   "name": "conda-env-.conda-flowering-py"
  },
  "language_info": {
   "codemirror_mode": {
    "name": "ipython",
    "version": 3
   },
   "file_extension": ".py",
   "mimetype": "text/x-python",
   "name": "python",
   "nbconvert_exporter": "python",
   "pygments_lexer": "ipython3",
   "version": "3.10.5"
  }
 },
 "nbformat": 4,
 "nbformat_minor": 5
}
